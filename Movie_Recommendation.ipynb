{
 "cells": [
  {
   "cell_type": "code",
   "execution_count": 4,
   "metadata": {},
   "outputs": [
    {
     "name": "stdout",
     "output_type": "stream",
     "text": [
      "[[2 1]\n",
      " [1 2]]\n"
     ]
    }
   ],
   "source": [
    "text = [\"London Paris London\", \"Paris Paris London\"]\n",
    "from sklearn.feature_extraction.text import CountVectorizer\n",
    "cv = CountVectorizer()\n",
    "X = cv.fit_transform(text)\n",
    "print (X.toarray())"
   ]
  },
  {
   "cell_type": "code",
   "execution_count": 7,
   "metadata": {},
   "outputs": [
    {
     "name": "stdout",
     "output_type": "stream",
     "text": [
      "[[1.  0.8]\n",
      " [0.8 1. ]]\n"
     ]
    }
   ],
   "source": [
    "from sklearn.metrics.pairwise import cosine_similarity\n",
    "similarity_score = cosine_similarity(X)\n",
    "print(similarity_score)"
   ]
  },
  {
   "cell_type": "code",
   "execution_count": 19,
   "metadata": {},
   "outputs": [
    {
     "name": "stdout",
     "output_type": "stream",
     "text": [
      "Avatar\n",
      "Guardians of the Galaxy\n",
      "Aliens\n",
      "Star Wars: Clone Wars: Volume 1\n",
      "Star Trek Into Darkness\n",
      "Star Trek Beyond\n",
      "Alien\n",
      "Lockout\n",
      "Jason X\n",
      "The Helix... Loaded\n",
      "Moonraker\n",
      "Planet of the Apes\n",
      "Galaxy Quest\n",
      "Gravity\n",
      "Alien³\n",
      "Jupiter Ascending\n",
      "The Wolverine\n",
      "Silent Running\n",
      "Zathura: A Space Adventure\n",
      "Trekkies\n",
      "Cargo\n",
      "Wing Commander\n",
      "Star Trek\n",
      "Lost in Space\n",
      "Babylon A.D.\n",
      "The Fifth Element\n",
      "Oblivion\n",
      "Titan A.E.\n",
      "AVP: Alien vs. Predator\n",
      "The Empire Strikes Back\n",
      "Dragonball Evolution\n",
      "Superman Returns\n",
      "Divergent\n",
      "John Carter\n",
      "The Black Hole\n",
      "The Ice Pirates\n",
      "Memoirs of an Invisible Man\n",
      "Starship Troopers\n",
      "The Astronaut's Wife\n",
      "Machete Kills\n",
      "Soldier\n",
      "The Abyss\n",
      "Damnation Alley\n",
      "Men in Black\n",
      "Space Cowboys\n",
      "Space Dogs\n",
      "The Time Machine\n",
      "Sheena\n",
      "Captain America: Civil War\n",
      "Star Trek: Insurrection\n",
      "Oz: The Great and Powerful\n"
     ]
    }
   ],
   "source": [
    "import pandas as pd\n",
    "import numpy as np\n",
    "from sklearn.feature_extraction.text import CountVectorizer\n",
    "from sklearn.metrics.pairwise import cosine_similarity\n",
    "\n",
    "#helper funcction\n",
    "\n",
    "def get_title_from_index(index):\n",
    "    return data[data.index==index][\"title\"].values[0]\n",
    "\n",
    "def get_index_from_title(title):\n",
    "    return data[data.title==title][\"index\"].values[0]\n",
    "\n",
    "\n",
    "#read csv file    STEP 1\n",
    "\n",
    "data = pd.read_csv(\"movie_dataset.csv\")\n",
    "\n",
    "\n",
    "# STEP2  Select features\n",
    "\n",
    "features = ['keywords', 'cast', 'genres', 'director']\n",
    "\n",
    "#Step 3  Create a dataframe coulumn for slected features\n",
    "\n",
    "for feature in features:\n",
    "    data[feature] = data[feature].fillna('')\n",
    "\n",
    "def combine_features(row):\n",
    "    return row['keywords'] +\" \"+ row['cast'] + \" \" + row['genres']+\" \"+ row['director']\n",
    "\n",
    "data[\"features\"] = data.apply(combine_features, axis =1)\n",
    "\n",
    "\n",
    "# Step 4 Create count matrix\n",
    "\n",
    "count = cv.fit_transform(data[\"features\"])\n",
    "\n",
    "\n",
    "# step 5 Cosine similarity\n",
    "\n",
    "similar = cosine_similarity(count)\n",
    "\n",
    "\n",
    "# final interface\n",
    "\n",
    "user = \"Avatar\"\n",
    "\n",
    "movie_index = get_index_from_title(user)\n",
    "similar_movies = list(enumerate(similar[movie_index]))\n",
    "sorted_movies = sorted(similar_movies, key= lambda x:x[1], reverse = True)\n",
    "\n",
    "i=0\n",
    "for movie in sorted_movies:\n",
    "    print(get_title_from_index(movie[0]))\n",
    "    i=i+1\n",
    "    if i>50:\n",
    "        break"
   ]
  },
  {
   "cell_type": "code",
   "execution_count": null,
   "metadata": {},
   "outputs": [],
   "source": []
  }
 ],
 "metadata": {
  "kernelspec": {
   "display_name": "Python 3",
   "language": "python",
   "name": "python3"
  },
  "language_info": {
   "codemirror_mode": {
    "name": "ipython",
    "version": 3
   },
   "file_extension": ".py",
   "mimetype": "text/x-python",
   "name": "python",
   "nbconvert_exporter": "python",
   "pygments_lexer": "ipython3",
   "version": "3.7.4"
  }
 },
 "nbformat": 4,
 "nbformat_minor": 2
}
